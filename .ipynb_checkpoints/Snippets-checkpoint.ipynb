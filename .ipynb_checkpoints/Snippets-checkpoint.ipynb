{
 "cells": [
  {
   "cell_type": "code",
   "execution_count": 1,
   "id": "cdbd291a",
   "metadata": {},
   "outputs": [],
   "source": [
    "person = {\n",
    "    \"first\": \"Hammadoon\",\n",
    "    \"last\": \"Issa\",\n",
    "    \"email\": \"hammadoon.sss@gmail.com\"\n",
    "}"
   ]
  },
  {
   "cell_type": "code",
   "execution_count": 2,
   "id": "38b8ab40",
   "metadata": {},
   "outputs": [],
   "source": [
    "people = {\n",
    "    \"first\": [\"Hammadoon\"],\n",
    "    \"last\": [\"Issa\"],\n",
    "    \"email\": [\"hammadoon.sss@gmail.com\"]\n",
    "}"
   ]
  },
  {
   "cell_type": "code",
   "execution_count": 3,
   "id": "b1ecf2a3",
   "metadata": {},
   "outputs": [],
   "source": [
    "people_group = {\n",
    "    \"first\": [\"Hammadoon\", \"Ben\", \"Gon\", \"Jane\",\"John\" ],\n",
    "    \"last\": [\"Issa\", \"Ten\", \"Freecs\", \"Doe\", \"Doe\"],\n",
    "    \"email\": [\"hammadoon.sss@gmail.com\", \"ben10@email.com\", \"gon.freecs@gmail.com\", \"janedoe@email.com\", \"johndoe@email.com\"]\n",
    "}"
   ]
  },
  {
   "cell_type": "code",
   "execution_count": 4,
   "id": "6a5da76b",
   "metadata": {},
   "outputs": [
    {
     "data": {
      "text/plain": [
       "{'first': 'Hammadoon', 'last': 'Issa', 'email': 'hammadoon.sss@gmail.com'}"
      ]
     },
     "execution_count": 4,
     "metadata": {},
     "output_type": "execute_result"
    }
   ],
   "source": [
    "person"
   ]
  },
  {
   "cell_type": "code",
   "execution_count": 5,
   "id": "be9c657b",
   "metadata": {},
   "outputs": [
    {
     "data": {
      "text/plain": [
       "{'first': ['Hammadoon'],\n",
       " 'last': ['Issa'],\n",
       " 'email': ['hammadoon.sss@gmail.com']}"
      ]
     },
     "execution_count": 5,
     "metadata": {},
     "output_type": "execute_result"
    }
   ],
   "source": [
    "people"
   ]
  },
  {
   "cell_type": "code",
   "execution_count": 6,
   "id": "142b4b32",
   "metadata": {},
   "outputs": [
    {
     "data": {
      "text/plain": [
       "{'first': ['Hammadoon', 'Ben', 'Gon', 'Jane', 'John'],\n",
       " 'last': ['Issa', 'Ten', 'Freecs', 'Doe', 'Doe'],\n",
       " 'email': ['hammadoon.sss@gmail.com',\n",
       "  'ben10@email.com',\n",
       "  'gon.freecs@gmail.com',\n",
       "  'janedoe@email.com',\n",
       "  'johndoe@email.com']}"
      ]
     },
     "execution_count": 6,
     "metadata": {},
     "output_type": "execute_result"
    }
   ],
   "source": [
    "people_group"
   ]
  },
  {
   "cell_type": "code",
   "execution_count": 7,
   "id": "ef7a6f61",
   "metadata": {},
   "outputs": [
    {
     "data": {
      "text/plain": [
       "['hammadoon.sss@gmail.com',\n",
       " 'ben10@email.com',\n",
       " 'gon.freecs@gmail.com',\n",
       " 'janedoe@email.com',\n",
       " 'johndoe@email.com']"
      ]
     },
     "execution_count": 7,
     "metadata": {},
     "output_type": "execute_result"
    }
   ],
   "source": [
    "people_group['email']"
   ]
  },
  {
   "cell_type": "code",
   "execution_count": 8,
   "id": "55fb7602",
   "metadata": {},
   "outputs": [],
   "source": [
    "import pandas as pd"
   ]
  },
  {
   "cell_type": "code",
   "execution_count": 9,
   "id": "cb10d041",
   "metadata": {},
   "outputs": [],
   "source": [
    "df = pd.DataFrame(people_group)"
   ]
  },
  {
   "cell_type": "code",
   "execution_count": 10,
   "id": "8f56fe74",
   "metadata": {},
   "outputs": [
    {
     "data": {
      "text/html": [
       "<div>\n",
       "<style scoped>\n",
       "    .dataframe tbody tr th:only-of-type {\n",
       "        vertical-align: middle;\n",
       "    }\n",
       "\n",
       "    .dataframe tbody tr th {\n",
       "        vertical-align: top;\n",
       "    }\n",
       "\n",
       "    .dataframe thead th {\n",
       "        text-align: right;\n",
       "    }\n",
       "</style>\n",
       "<table border=\"1\" class=\"dataframe\">\n",
       "  <thead>\n",
       "    <tr style=\"text-align: right;\">\n",
       "      <th></th>\n",
       "      <th>first</th>\n",
       "      <th>last</th>\n",
       "      <th>email</th>\n",
       "    </tr>\n",
       "  </thead>\n",
       "  <tbody>\n",
       "    <tr>\n",
       "      <th>0</th>\n",
       "      <td>Hammadoon</td>\n",
       "      <td>Issa</td>\n",
       "      <td>hammadoon.sss@gmail.com</td>\n",
       "    </tr>\n",
       "    <tr>\n",
       "      <th>1</th>\n",
       "      <td>Ben</td>\n",
       "      <td>Ten</td>\n",
       "      <td>ben10@email.com</td>\n",
       "    </tr>\n",
       "    <tr>\n",
       "      <th>2</th>\n",
       "      <td>Gon</td>\n",
       "      <td>Freecs</td>\n",
       "      <td>gon.freecs@gmail.com</td>\n",
       "    </tr>\n",
       "    <tr>\n",
       "      <th>3</th>\n",
       "      <td>Jane</td>\n",
       "      <td>Doe</td>\n",
       "      <td>janedoe@email.com</td>\n",
       "    </tr>\n",
       "    <tr>\n",
       "      <th>4</th>\n",
       "      <td>John</td>\n",
       "      <td>Doe</td>\n",
       "      <td>johndoe@email.com</td>\n",
       "    </tr>\n",
       "  </tbody>\n",
       "</table>\n",
       "</div>"
      ],
      "text/plain": [
       "       first    last                    email\n",
       "0  Hammadoon    Issa  hammadoon.sss@gmail.com\n",
       "1        Ben     Ten          ben10@email.com\n",
       "2        Gon  Freecs     gon.freecs@gmail.com\n",
       "3       Jane     Doe        janedoe@email.com\n",
       "4       John     Doe        johndoe@email.com"
      ]
     },
     "execution_count": 10,
     "metadata": {},
     "output_type": "execute_result"
    }
   ],
   "source": [
    "df"
   ]
  },
  {
   "cell_type": "code",
   "execution_count": 11,
   "id": "76648ddd",
   "metadata": {},
   "outputs": [
    {
     "data": {
      "text/plain": [
       "0    hammadoon.sss@gmail.com\n",
       "1            ben10@email.com\n",
       "2       gon.freecs@gmail.com\n",
       "3          janedoe@email.com\n",
       "4          johndoe@email.com\n",
       "Name: email, dtype: object"
      ]
     },
     "execution_count": 11,
     "metadata": {},
     "output_type": "execute_result"
    }
   ],
   "source": [
    "df['email']"
   ]
  },
  {
   "cell_type": "code",
   "execution_count": 12,
   "id": "ebd5b698",
   "metadata": {},
   "outputs": [
    {
     "data": {
      "text/html": [
       "<div>\n",
       "<style scoped>\n",
       "    .dataframe tbody tr th:only-of-type {\n",
       "        vertical-align: middle;\n",
       "    }\n",
       "\n",
       "    .dataframe tbody tr th {\n",
       "        vertical-align: top;\n",
       "    }\n",
       "\n",
       "    .dataframe thead th {\n",
       "        text-align: right;\n",
       "    }\n",
       "</style>\n",
       "<table border=\"1\" class=\"dataframe\">\n",
       "  <thead>\n",
       "    <tr style=\"text-align: right;\">\n",
       "      <th></th>\n",
       "      <th>last</th>\n",
       "      <th>email</th>\n",
       "    </tr>\n",
       "  </thead>\n",
       "  <tbody>\n",
       "    <tr>\n",
       "      <th>0</th>\n",
       "      <td>Issa</td>\n",
       "      <td>hammadoon.sss@gmail.com</td>\n",
       "    </tr>\n",
       "    <tr>\n",
       "      <th>1</th>\n",
       "      <td>Ten</td>\n",
       "      <td>ben10@email.com</td>\n",
       "    </tr>\n",
       "    <tr>\n",
       "      <th>2</th>\n",
       "      <td>Freecs</td>\n",
       "      <td>gon.freecs@gmail.com</td>\n",
       "    </tr>\n",
       "    <tr>\n",
       "      <th>3</th>\n",
       "      <td>Doe</td>\n",
       "      <td>janedoe@email.com</td>\n",
       "    </tr>\n",
       "    <tr>\n",
       "      <th>4</th>\n",
       "      <td>Doe</td>\n",
       "      <td>johndoe@email.com</td>\n",
       "    </tr>\n",
       "  </tbody>\n",
       "</table>\n",
       "</div>"
      ],
      "text/plain": [
       "     last                    email\n",
       "0    Issa  hammadoon.sss@gmail.com\n",
       "1     Ten          ben10@email.com\n",
       "2  Freecs     gon.freecs@gmail.com\n",
       "3     Doe        janedoe@email.com\n",
       "4     Doe        johndoe@email.com"
      ]
     },
     "execution_count": 12,
     "metadata": {},
     "output_type": "execute_result"
    }
   ],
   "source": [
    "df[['last', 'email']]"
   ]
  },
  {
   "cell_type": "code",
   "execution_count": 13,
   "id": "8adddf93",
   "metadata": {},
   "outputs": [
    {
     "data": {
      "text/plain": [
       "Index(['first', 'last', 'email'], dtype='object')"
      ]
     },
     "execution_count": 13,
     "metadata": {},
     "output_type": "execute_result"
    }
   ],
   "source": [
    "df.columns"
   ]
  },
  {
   "cell_type": "code",
   "execution_count": 14,
   "id": "a3569e09",
   "metadata": {},
   "outputs": [
    {
     "data": {
      "text/plain": [
       "first                  Hammadoon\n",
       "last                        Issa\n",
       "email    hammadoon.sss@gmail.com\n",
       "Name: 0, dtype: object"
      ]
     },
     "execution_count": 14,
     "metadata": {},
     "output_type": "execute_result"
    }
   ],
   "source": [
    "df.iloc[0]"
   ]
  },
  {
   "cell_type": "code",
   "execution_count": 15,
   "id": "f305d03a",
   "metadata": {},
   "outputs": [
    {
     "data": {
      "text/html": [
       "<div>\n",
       "<style scoped>\n",
       "    .dataframe tbody tr th:only-of-type {\n",
       "        vertical-align: middle;\n",
       "    }\n",
       "\n",
       "    .dataframe tbody tr th {\n",
       "        vertical-align: top;\n",
       "    }\n",
       "\n",
       "    .dataframe thead th {\n",
       "        text-align: right;\n",
       "    }\n",
       "</style>\n",
       "<table border=\"1\" class=\"dataframe\">\n",
       "  <thead>\n",
       "    <tr style=\"text-align: right;\">\n",
       "      <th></th>\n",
       "      <th>first</th>\n",
       "      <th>last</th>\n",
       "      <th>email</th>\n",
       "    </tr>\n",
       "  </thead>\n",
       "  <tbody>\n",
       "    <tr>\n",
       "      <th>0</th>\n",
       "      <td>Hammadoon</td>\n",
       "      <td>Issa</td>\n",
       "      <td>hammadoon.sss@gmail.com</td>\n",
       "    </tr>\n",
       "    <tr>\n",
       "      <th>2</th>\n",
       "      <td>Gon</td>\n",
       "      <td>Freecs</td>\n",
       "      <td>gon.freecs@gmail.com</td>\n",
       "    </tr>\n",
       "  </tbody>\n",
       "</table>\n",
       "</div>"
      ],
      "text/plain": [
       "       first    last                    email\n",
       "0  Hammadoon    Issa  hammadoon.sss@gmail.com\n",
       "2        Gon  Freecs     gon.freecs@gmail.com"
      ]
     },
     "execution_count": 15,
     "metadata": {},
     "output_type": "execute_result"
    }
   ],
   "source": [
    "df.iloc[[0,2]]"
   ]
  },
  {
   "cell_type": "code",
   "execution_count": 16,
   "id": "87f33308",
   "metadata": {},
   "outputs": [
    {
     "data": {
      "text/plain": [
       "0    hammadoon.sss@gmail.com\n",
       "1            ben10@email.com\n",
       "Name: email, dtype: object"
      ]
     },
     "execution_count": 16,
     "metadata": {},
     "output_type": "execute_result"
    }
   ],
   "source": [
    "df.iloc[[0,1], 2]"
   ]
  },
  {
   "cell_type": "code",
   "execution_count": 17,
   "id": "39b06c89",
   "metadata": {},
   "outputs": [
    {
     "data": {
      "text/html": [
       "<div>\n",
       "<style scoped>\n",
       "    .dataframe tbody tr th:only-of-type {\n",
       "        vertical-align: middle;\n",
       "    }\n",
       "\n",
       "    .dataframe tbody tr th {\n",
       "        vertical-align: top;\n",
       "    }\n",
       "\n",
       "    .dataframe thead th {\n",
       "        text-align: right;\n",
       "    }\n",
       "</style>\n",
       "<table border=\"1\" class=\"dataframe\">\n",
       "  <thead>\n",
       "    <tr style=\"text-align: right;\">\n",
       "      <th></th>\n",
       "      <th>first</th>\n",
       "      <th>last</th>\n",
       "      <th>email</th>\n",
       "    </tr>\n",
       "  </thead>\n",
       "  <tbody>\n",
       "    <tr>\n",
       "      <th>0</th>\n",
       "      <td>Hammadoon</td>\n",
       "      <td>Issa</td>\n",
       "      <td>hammadoon.sss@gmail.com</td>\n",
       "    </tr>\n",
       "    <tr>\n",
       "      <th>1</th>\n",
       "      <td>Ben</td>\n",
       "      <td>Ten</td>\n",
       "      <td>ben10@email.com</td>\n",
       "    </tr>\n",
       "    <tr>\n",
       "      <th>2</th>\n",
       "      <td>Gon</td>\n",
       "      <td>Freecs</td>\n",
       "      <td>gon.freecs@gmail.com</td>\n",
       "    </tr>\n",
       "    <tr>\n",
       "      <th>3</th>\n",
       "      <td>Jane</td>\n",
       "      <td>Doe</td>\n",
       "      <td>janedoe@email.com</td>\n",
       "    </tr>\n",
       "    <tr>\n",
       "      <th>4</th>\n",
       "      <td>John</td>\n",
       "      <td>Doe</td>\n",
       "      <td>johndoe@email.com</td>\n",
       "    </tr>\n",
       "  </tbody>\n",
       "</table>\n",
       "</div>"
      ],
      "text/plain": [
       "       first    last                    email\n",
       "0  Hammadoon    Issa  hammadoon.sss@gmail.com\n",
       "1        Ben     Ten          ben10@email.com\n",
       "2        Gon  Freecs     gon.freecs@gmail.com\n",
       "3       Jane     Doe        janedoe@email.com\n",
       "4       John     Doe        johndoe@email.com"
      ]
     },
     "execution_count": 17,
     "metadata": {},
     "output_type": "execute_result"
    }
   ],
   "source": [
    "df"
   ]
  },
  {
   "cell_type": "code",
   "execution_count": 18,
   "id": "062ff9f3",
   "metadata": {},
   "outputs": [
    {
     "data": {
      "text/plain": [
       "first                  Hammadoon\n",
       "last                        Issa\n",
       "email    hammadoon.sss@gmail.com\n",
       "Name: 0, dtype: object"
      ]
     },
     "execution_count": 18,
     "metadata": {},
     "output_type": "execute_result"
    }
   ],
   "source": [
    "df.loc[0]"
   ]
  },
  {
   "cell_type": "code",
   "execution_count": 19,
   "id": "647e1945",
   "metadata": {},
   "outputs": [
    {
     "data": {
      "text/html": [
       "<div>\n",
       "<style scoped>\n",
       "    .dataframe tbody tr th:only-of-type {\n",
       "        vertical-align: middle;\n",
       "    }\n",
       "\n",
       "    .dataframe tbody tr th {\n",
       "        vertical-align: top;\n",
       "    }\n",
       "\n",
       "    .dataframe thead th {\n",
       "        text-align: right;\n",
       "    }\n",
       "</style>\n",
       "<table border=\"1\" class=\"dataframe\">\n",
       "  <thead>\n",
       "    <tr style=\"text-align: right;\">\n",
       "      <th></th>\n",
       "      <th>first</th>\n",
       "      <th>last</th>\n",
       "      <th>email</th>\n",
       "    </tr>\n",
       "  </thead>\n",
       "  <tbody>\n",
       "    <tr>\n",
       "      <th>0</th>\n",
       "      <td>Hammadoon</td>\n",
       "      <td>Issa</td>\n",
       "      <td>hammadoon.sss@gmail.com</td>\n",
       "    </tr>\n",
       "    <tr>\n",
       "      <th>1</th>\n",
       "      <td>Ben</td>\n",
       "      <td>Ten</td>\n",
       "      <td>ben10@email.com</td>\n",
       "    </tr>\n",
       "  </tbody>\n",
       "</table>\n",
       "</div>"
      ],
      "text/plain": [
       "       first  last                    email\n",
       "0  Hammadoon  Issa  hammadoon.sss@gmail.com\n",
       "1        Ben   Ten          ben10@email.com"
      ]
     },
     "execution_count": 19,
     "metadata": {},
     "output_type": "execute_result"
    }
   ],
   "source": [
    "df.loc[[0,1]]"
   ]
  },
  {
   "cell_type": "code",
   "execution_count": 20,
   "id": "cc1c2eee",
   "metadata": {},
   "outputs": [
    {
     "data": {
      "text/plain": [
       "0    hammadoon.sss@gmail.com\n",
       "1            ben10@email.com\n",
       "Name: email, dtype: object"
      ]
     },
     "execution_count": 20,
     "metadata": {},
     "output_type": "execute_result"
    }
   ],
   "source": [
    "df.loc[[0,1], 'email']"
   ]
  },
  {
   "cell_type": "code",
   "execution_count": 21,
   "id": "41078da5",
   "metadata": {},
   "outputs": [
    {
     "data": {
      "text/html": [
       "<div>\n",
       "<style scoped>\n",
       "    .dataframe tbody tr th:only-of-type {\n",
       "        vertical-align: middle;\n",
       "    }\n",
       "\n",
       "    .dataframe tbody tr th {\n",
       "        vertical-align: top;\n",
       "    }\n",
       "\n",
       "    .dataframe thead th {\n",
       "        text-align: right;\n",
       "    }\n",
       "</style>\n",
       "<table border=\"1\" class=\"dataframe\">\n",
       "  <thead>\n",
       "    <tr style=\"text-align: right;\">\n",
       "      <th></th>\n",
       "      <th>email</th>\n",
       "      <th>last</th>\n",
       "    </tr>\n",
       "  </thead>\n",
       "  <tbody>\n",
       "    <tr>\n",
       "      <th>0</th>\n",
       "      <td>hammadoon.sss@gmail.com</td>\n",
       "      <td>Issa</td>\n",
       "    </tr>\n",
       "    <tr>\n",
       "      <th>2</th>\n",
       "      <td>gon.freecs@gmail.com</td>\n",
       "      <td>Freecs</td>\n",
       "    </tr>\n",
       "  </tbody>\n",
       "</table>\n",
       "</div>"
      ],
      "text/plain": [
       "                     email    last\n",
       "0  hammadoon.sss@gmail.com    Issa\n",
       "2     gon.freecs@gmail.com  Freecs"
      ]
     },
     "execution_count": 21,
     "metadata": {},
     "output_type": "execute_result"
    }
   ],
   "source": [
    "df.loc[[0,2], ['email', 'last']]"
   ]
  },
  {
   "cell_type": "code",
   "execution_count": 22,
   "id": "d8dec90d",
   "metadata": {},
   "outputs": [
    {
     "data": {
      "text/html": [
       "<div>\n",
       "<style scoped>\n",
       "    .dataframe tbody tr th:only-of-type {\n",
       "        vertical-align: middle;\n",
       "    }\n",
       "\n",
       "    .dataframe tbody tr th {\n",
       "        vertical-align: top;\n",
       "    }\n",
       "\n",
       "    .dataframe thead th {\n",
       "        text-align: right;\n",
       "    }\n",
       "</style>\n",
       "<table border=\"1\" class=\"dataframe\">\n",
       "  <thead>\n",
       "    <tr style=\"text-align: right;\">\n",
       "      <th></th>\n",
       "      <th>first</th>\n",
       "      <th>last</th>\n",
       "      <th>email</th>\n",
       "    </tr>\n",
       "  </thead>\n",
       "  <tbody>\n",
       "    <tr>\n",
       "      <th>0</th>\n",
       "      <td>Hammadoon</td>\n",
       "      <td>Issa</td>\n",
       "      <td>hammadoon.sss@gmail.com</td>\n",
       "    </tr>\n",
       "    <tr>\n",
       "      <th>1</th>\n",
       "      <td>Ben</td>\n",
       "      <td>Ten</td>\n",
       "      <td>ben10@email.com</td>\n",
       "    </tr>\n",
       "    <tr>\n",
       "      <th>2</th>\n",
       "      <td>Gon</td>\n",
       "      <td>Freecs</td>\n",
       "      <td>gon.freecs@gmail.com</td>\n",
       "    </tr>\n",
       "    <tr>\n",
       "      <th>3</th>\n",
       "      <td>Jane</td>\n",
       "      <td>Doe</td>\n",
       "      <td>janedoe@email.com</td>\n",
       "    </tr>\n",
       "    <tr>\n",
       "      <th>4</th>\n",
       "      <td>John</td>\n",
       "      <td>Doe</td>\n",
       "      <td>johndoe@email.com</td>\n",
       "    </tr>\n",
       "  </tbody>\n",
       "</table>\n",
       "</div>"
      ],
      "text/plain": [
       "       first    last                    email\n",
       "0  Hammadoon    Issa  hammadoon.sss@gmail.com\n",
       "1        Ben     Ten          ben10@email.com\n",
       "2        Gon  Freecs     gon.freecs@gmail.com\n",
       "3       Jane     Doe        janedoe@email.com\n",
       "4       John     Doe        johndoe@email.com"
      ]
     },
     "execution_count": 22,
     "metadata": {},
     "output_type": "execute_result"
    }
   ],
   "source": [
    "df"
   ]
  },
  {
   "cell_type": "code",
   "execution_count": 23,
   "id": "3429890e",
   "metadata": {},
   "outputs": [
    {
     "data": {
      "text/html": [
       "<div>\n",
       "<style scoped>\n",
       "    .dataframe tbody tr th:only-of-type {\n",
       "        vertical-align: middle;\n",
       "    }\n",
       "\n",
       "    .dataframe tbody tr th {\n",
       "        vertical-align: top;\n",
       "    }\n",
       "\n",
       "    .dataframe thead th {\n",
       "        text-align: right;\n",
       "    }\n",
       "</style>\n",
       "<table border=\"1\" class=\"dataframe\">\n",
       "  <thead>\n",
       "    <tr style=\"text-align: right;\">\n",
       "      <th></th>\n",
       "      <th>first</th>\n",
       "      <th>last</th>\n",
       "    </tr>\n",
       "    <tr>\n",
       "      <th>email</th>\n",
       "      <th></th>\n",
       "      <th></th>\n",
       "    </tr>\n",
       "  </thead>\n",
       "  <tbody>\n",
       "    <tr>\n",
       "      <th>hammadoon.sss@gmail.com</th>\n",
       "      <td>Hammadoon</td>\n",
       "      <td>Issa</td>\n",
       "    </tr>\n",
       "    <tr>\n",
       "      <th>ben10@email.com</th>\n",
       "      <td>Ben</td>\n",
       "      <td>Ten</td>\n",
       "    </tr>\n",
       "    <tr>\n",
       "      <th>gon.freecs@gmail.com</th>\n",
       "      <td>Gon</td>\n",
       "      <td>Freecs</td>\n",
       "    </tr>\n",
       "    <tr>\n",
       "      <th>janedoe@email.com</th>\n",
       "      <td>Jane</td>\n",
       "      <td>Doe</td>\n",
       "    </tr>\n",
       "    <tr>\n",
       "      <th>johndoe@email.com</th>\n",
       "      <td>John</td>\n",
       "      <td>Doe</td>\n",
       "    </tr>\n",
       "  </tbody>\n",
       "</table>\n",
       "</div>"
      ],
      "text/plain": [
       "                             first    last\n",
       "email                                     \n",
       "hammadoon.sss@gmail.com  Hammadoon    Issa\n",
       "ben10@email.com                Ben     Ten\n",
       "gon.freecs@gmail.com           Gon  Freecs\n",
       "janedoe@email.com             Jane     Doe\n",
       "johndoe@email.com             John     Doe"
      ]
     },
     "execution_count": 23,
     "metadata": {},
     "output_type": "execute_result"
    }
   ],
   "source": [
    "df.set_index('email')"
   ]
  },
  {
   "cell_type": "code",
   "execution_count": 24,
   "id": "818a8812",
   "metadata": {},
   "outputs": [
    {
     "data": {
      "text/html": [
       "<div>\n",
       "<style scoped>\n",
       "    .dataframe tbody tr th:only-of-type {\n",
       "        vertical-align: middle;\n",
       "    }\n",
       "\n",
       "    .dataframe tbody tr th {\n",
       "        vertical-align: top;\n",
       "    }\n",
       "\n",
       "    .dataframe thead th {\n",
       "        text-align: right;\n",
       "    }\n",
       "</style>\n",
       "<table border=\"1\" class=\"dataframe\">\n",
       "  <thead>\n",
       "    <tr style=\"text-align: right;\">\n",
       "      <th></th>\n",
       "      <th>first</th>\n",
       "      <th>last</th>\n",
       "      <th>email</th>\n",
       "    </tr>\n",
       "  </thead>\n",
       "  <tbody>\n",
       "    <tr>\n",
       "      <th>0</th>\n",
       "      <td>Hammadoon</td>\n",
       "      <td>Issa</td>\n",
       "      <td>hammadoon.sss@gmail.com</td>\n",
       "    </tr>\n",
       "    <tr>\n",
       "      <th>1</th>\n",
       "      <td>Ben</td>\n",
       "      <td>Ten</td>\n",
       "      <td>ben10@email.com</td>\n",
       "    </tr>\n",
       "    <tr>\n",
       "      <th>2</th>\n",
       "      <td>Gon</td>\n",
       "      <td>Freecs</td>\n",
       "      <td>gon.freecs@gmail.com</td>\n",
       "    </tr>\n",
       "    <tr>\n",
       "      <th>3</th>\n",
       "      <td>Jane</td>\n",
       "      <td>Doe</td>\n",
       "      <td>janedoe@email.com</td>\n",
       "    </tr>\n",
       "    <tr>\n",
       "      <th>4</th>\n",
       "      <td>John</td>\n",
       "      <td>Doe</td>\n",
       "      <td>johndoe@email.com</td>\n",
       "    </tr>\n",
       "  </tbody>\n",
       "</table>\n",
       "</div>"
      ],
      "text/plain": [
       "       first    last                    email\n",
       "0  Hammadoon    Issa  hammadoon.sss@gmail.com\n",
       "1        Ben     Ten          ben10@email.com\n",
       "2        Gon  Freecs     gon.freecs@gmail.com\n",
       "3       Jane     Doe        janedoe@email.com\n",
       "4       John     Doe        johndoe@email.com"
      ]
     },
     "execution_count": 24,
     "metadata": {},
     "output_type": "execute_result"
    }
   ],
   "source": [
    "df"
   ]
  },
  {
   "cell_type": "code",
   "execution_count": 25,
   "id": "a2d21726",
   "metadata": {},
   "outputs": [
    {
     "data": {
      "text/html": [
       "<div>\n",
       "<style scoped>\n",
       "    .dataframe tbody tr th:only-of-type {\n",
       "        vertical-align: middle;\n",
       "    }\n",
       "\n",
       "    .dataframe tbody tr th {\n",
       "        vertical-align: top;\n",
       "    }\n",
       "\n",
       "    .dataframe thead th {\n",
       "        text-align: right;\n",
       "    }\n",
       "</style>\n",
       "<table border=\"1\" class=\"dataframe\">\n",
       "  <thead>\n",
       "    <tr style=\"text-align: right;\">\n",
       "      <th></th>\n",
       "      <th>first</th>\n",
       "      <th>last</th>\n",
       "    </tr>\n",
       "    <tr>\n",
       "      <th>email</th>\n",
       "      <th></th>\n",
       "      <th></th>\n",
       "    </tr>\n",
       "  </thead>\n",
       "  <tbody>\n",
       "    <tr>\n",
       "      <th>hammadoon.sss@gmail.com</th>\n",
       "      <td>Hammadoon</td>\n",
       "      <td>Issa</td>\n",
       "    </tr>\n",
       "    <tr>\n",
       "      <th>ben10@email.com</th>\n",
       "      <td>Ben</td>\n",
       "      <td>Ten</td>\n",
       "    </tr>\n",
       "    <tr>\n",
       "      <th>gon.freecs@gmail.com</th>\n",
       "      <td>Gon</td>\n",
       "      <td>Freecs</td>\n",
       "    </tr>\n",
       "    <tr>\n",
       "      <th>janedoe@email.com</th>\n",
       "      <td>Jane</td>\n",
       "      <td>Doe</td>\n",
       "    </tr>\n",
       "    <tr>\n",
       "      <th>johndoe@email.com</th>\n",
       "      <td>John</td>\n",
       "      <td>Doe</td>\n",
       "    </tr>\n",
       "  </tbody>\n",
       "</table>\n",
       "</div>"
      ],
      "text/plain": [
       "                             first    last\n",
       "email                                     \n",
       "hammadoon.sss@gmail.com  Hammadoon    Issa\n",
       "ben10@email.com                Ben     Ten\n",
       "gon.freecs@gmail.com           Gon  Freecs\n",
       "janedoe@email.com             Jane     Doe\n",
       "johndoe@email.com             John     Doe"
      ]
     },
     "execution_count": 25,
     "metadata": {},
     "output_type": "execute_result"
    }
   ],
   "source": [
    "#  Set index to particular label(column)\n",
    "df.set_index('email', inplace=True)\n",
    "df"
   ]
  },
  {
   "cell_type": "code",
   "execution_count": 26,
   "id": "f7390267",
   "metadata": {},
   "outputs": [
    {
     "data": {
      "text/plain": [
       "Index(['hammadoon.sss@gmail.com', 'ben10@email.com', 'gon.freecs@gmail.com',\n",
       "       'janedoe@email.com', 'johndoe@email.com'],\n",
       "      dtype='object', name='email')"
      ]
     },
     "execution_count": 26,
     "metadata": {},
     "output_type": "execute_result"
    }
   ],
   "source": [
    "df.index"
   ]
  },
  {
   "cell_type": "code",
   "execution_count": 27,
   "id": "2b0ecd56",
   "metadata": {},
   "outputs": [
    {
     "data": {
      "text/plain": [
       "first    Hammadoon\n",
       "last          Issa\n",
       "Name: hammadoon.sss@gmail.com, dtype: object"
      ]
     },
     "execution_count": 27,
     "metadata": {},
     "output_type": "execute_result"
    }
   ],
   "source": [
    "df.loc['hammadoon.sss@gmail.com']"
   ]
  },
  {
   "cell_type": "code",
   "execution_count": 28,
   "id": "ea3fb607",
   "metadata": {},
   "outputs": [
    {
     "data": {
      "text/plain": [
       "'Issa'"
      ]
     },
     "execution_count": 28,
     "metadata": {},
     "output_type": "execute_result"
    }
   ],
   "source": [
    "df.loc['hammadoon.sss@gmail.com', 'last']"
   ]
  },
  {
   "cell_type": "code",
   "execution_count": 29,
   "id": "e3afd971",
   "metadata": {},
   "outputs": [
    {
     "data": {
      "text/plain": [
       "first    Hammadoon\n",
       "last          Issa\n",
       "Name: hammadoon.sss@gmail.com, dtype: object"
      ]
     },
     "execution_count": 29,
     "metadata": {},
     "output_type": "execute_result"
    }
   ],
   "source": [
    "# df.loc[0]\n",
    "# it is not working because the index has changed to email\n",
    "df.iloc[0]\n",
    "# it still work"
   ]
  },
  {
   "cell_type": "code",
   "execution_count": 30,
   "id": "6a3e170c",
   "metadata": {},
   "outputs": [
    {
     "data": {
      "text/html": [
       "<div>\n",
       "<style scoped>\n",
       "    .dataframe tbody tr th:only-of-type {\n",
       "        vertical-align: middle;\n",
       "    }\n",
       "\n",
       "    .dataframe tbody tr th {\n",
       "        vertical-align: top;\n",
       "    }\n",
       "\n",
       "    .dataframe thead th {\n",
       "        text-align: right;\n",
       "    }\n",
       "</style>\n",
       "<table border=\"1\" class=\"dataframe\">\n",
       "  <thead>\n",
       "    <tr style=\"text-align: right;\">\n",
       "      <th></th>\n",
       "      <th>email</th>\n",
       "      <th>first</th>\n",
       "      <th>last</th>\n",
       "    </tr>\n",
       "  </thead>\n",
       "  <tbody>\n",
       "    <tr>\n",
       "      <th>0</th>\n",
       "      <td>hammadoon.sss@gmail.com</td>\n",
       "      <td>Hammadoon</td>\n",
       "      <td>Issa</td>\n",
       "    </tr>\n",
       "    <tr>\n",
       "      <th>1</th>\n",
       "      <td>ben10@email.com</td>\n",
       "      <td>Ben</td>\n",
       "      <td>Ten</td>\n",
       "    </tr>\n",
       "    <tr>\n",
       "      <th>2</th>\n",
       "      <td>gon.freecs@gmail.com</td>\n",
       "      <td>Gon</td>\n",
       "      <td>Freecs</td>\n",
       "    </tr>\n",
       "    <tr>\n",
       "      <th>3</th>\n",
       "      <td>janedoe@email.com</td>\n",
       "      <td>Jane</td>\n",
       "      <td>Doe</td>\n",
       "    </tr>\n",
       "    <tr>\n",
       "      <th>4</th>\n",
       "      <td>johndoe@email.com</td>\n",
       "      <td>John</td>\n",
       "      <td>Doe</td>\n",
       "    </tr>\n",
       "  </tbody>\n",
       "</table>\n",
       "</div>"
      ],
      "text/plain": [
       "                     email      first    last\n",
       "0  hammadoon.sss@gmail.com  Hammadoon    Issa\n",
       "1          ben10@email.com        Ben     Ten\n",
       "2     gon.freecs@gmail.com        Gon  Freecs\n",
       "3        janedoe@email.com       Jane     Doe\n",
       "4        johndoe@email.com       John     Doe"
      ]
     },
     "execution_count": 30,
     "metadata": {},
     "output_type": "execute_result"
    }
   ],
   "source": [
    "# Reset index to original Value\n",
    "df.reset_index(inplace=True)\n",
    "df"
   ]
  },
  {
   "cell_type": "code",
   "execution_count": 31,
   "id": "359adb43",
   "metadata": {},
   "outputs": [],
   "source": [
    "# filter dataframe \n",
    "filt = (df['last'] == 'Doe')"
   ]
  },
  {
   "cell_type": "code",
   "execution_count": 32,
   "id": "6f6a84be",
   "metadata": {},
   "outputs": [
    {
     "data": {
      "text/plain": [
       "3    janedoe@email.com\n",
       "4    johndoe@email.com\n",
       "Name: email, dtype: object"
      ]
     },
     "execution_count": 32,
     "metadata": {},
     "output_type": "execute_result"
    }
   ],
   "source": [
    "# .loc is used to get column with specific filter \n",
    "# first value is/are the row(s) we want && second value is/are the column(s) we want\n",
    "df.loc[filt, 'email']"
   ]
  },
  {
   "cell_type": "code",
   "execution_count": 33,
   "id": "1ceab6c6",
   "metadata": {},
   "outputs": [],
   "source": [
    "# Filter based on AND(&) operator\n",
    "filt2 = (df['last'] =='Doe') & (df['first'] == 'John')"
   ]
  },
  {
   "cell_type": "code",
   "execution_count": 34,
   "id": "c10843af",
   "metadata": {},
   "outputs": [
    {
     "data": {
      "text/plain": [
       "4    johndoe@email.com\n",
       "Name: email, dtype: object"
      ]
     },
     "execution_count": 34,
     "metadata": {},
     "output_type": "execute_result"
    }
   ],
   "source": [
    "df.loc[filt2, 'email']"
   ]
  },
  {
   "cell_type": "code",
   "execution_count": 35,
   "id": "f2195e80",
   "metadata": {},
   "outputs": [],
   "source": [
    "# Filter based on OR(|) operator\n",
    "filt3 = (df['last'] =='Issa') | (df['first'] == 'Gon')"
   ]
  },
  {
   "cell_type": "code",
   "execution_count": 36,
   "id": "02886310",
   "metadata": {},
   "outputs": [
    {
     "data": {
      "text/plain": [
       "0    hammadoon.sss@gmail.com\n",
       "2       gon.freecs@gmail.com\n",
       "Name: email, dtype: object"
      ]
     },
     "execution_count": 36,
     "metadata": {},
     "output_type": "execute_result"
    }
   ],
   "source": [
    "df.loc[filt3, 'email']"
   ]
  },
  {
   "cell_type": "code",
   "execution_count": 38,
   "id": "467cd695",
   "metadata": {},
   "outputs": [
    {
     "data": {
      "text/plain": [
       "1      ben10@email.com\n",
       "3    janedoe@email.com\n",
       "4    johndoe@email.com\n",
       "Name: email, dtype: object"
      ]
     },
     "execution_count": 38,
     "metadata": {},
     "output_type": "execute_result"
    }
   ],
   "source": [
    "# NOT of above OR operator: opposite\n",
    "df.loc[~filt3, 'email']"
   ]
  },
  {
   "cell_type": "code",
   "execution_count": null,
   "id": "ed63bfae",
   "metadata": {},
   "outputs": [],
   "source": []
  }
 ],
 "metadata": {
  "kernelspec": {
   "display_name": "Python 3",
   "language": "python",
   "name": "python3"
  },
  "language_info": {
   "codemirror_mode": {
    "name": "ipython",
    "version": 3
   },
   "file_extension": ".py",
   "mimetype": "text/x-python",
   "name": "python",
   "nbconvert_exporter": "python",
   "pygments_lexer": "ipython3",
   "version": "3.6.9"
  }
 },
 "nbformat": 4,
 "nbformat_minor": 5
}
